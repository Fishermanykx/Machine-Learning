{
 "cells": [
  {
   "cell_type": "code",
   "execution_count": 1,
   "metadata": {},
   "outputs": [],
   "source": [
    "import numpy as np\n",
    "import matplotlib.pyplot as plt"
   ]
  },
  {
   "cell_type": "code",
   "execution_count": 2,
   "metadata": {},
   "outputs": [],
   "source": [
    "# 加载随机数据集，定义数据集类\n",
    "class my_dataset():\n",
    "    def __init__(self, data_size=300):\n",
    "        self.data_size = data_size\n",
    "\n",
    "    #训练集数据\n",
    "    def get_train_data(self):\n",
    "        data_size = int(self.data_size * 0.8)\n",
    "        data_label = np.zeros((2 * data_size, 1))\n",
    "        # class 1\n",
    "        x1 = np.reshape(np.random.normal(1, 0.6, data_size), (data_size, 1))\n",
    "        y1 = np.reshape(np.random.normal(1, 0.8, data_size), (data_size, 1))\n",
    "        data_train = np.concatenate((x1, y1), axis=1)\n",
    "        data_label[0:self.data_size, :] = 0  # 0\n",
    "\n",
    "        # class 2\n",
    "        x2 = np.reshape(np.random.normal(-1, 0.3, data_size), (data_size, 1))\n",
    "        y2 = np.reshape(np.random.normal(-1, 0.5, data_size), (data_size, 1))\n",
    "        data_train = np.concatenate((data_train, np.concatenate((x2, y2), axis=1)), axis=0)\n",
    "        data_label[data_size:2 * data_size, :] = 1\n",
    "        return data_train, data_label\n",
    "\n",
    "    def get_test_data(self):\n",
    "        data_size = int(self.data_size * 0.2)\n",
    "        testdata_label = np.zeros((2 * data_size, 1))\n",
    "        # class 1\n",
    "        x1 = np.reshape(np.random.normal(1, 0.6, data_size), (data_size, 1))\n",
    "        y1 = np.reshape(np.random.normal(1, 0.8, data_size), (data_size, 1))\n",
    "        data_test = np.concatenate((x1, y1), axis=1)\n",
    "        testdata_label[0:data_size, :] = 0\n",
    "\n",
    "        # class 2\n",
    "        x2 = np.reshape(np.random.normal(-1, 0.3, data_size), (data_size, 1))\n",
    "        y2 = np.reshape(np.random.normal(-1, 0.5, data_size), (data_size, 1))\n",
    "        data_test = np.concatenate((data_test, np.concatenate((x2, y2), axis=1)), axis=0)\n",
    "        testdata_label[data_size:2 * data_size, :] = 1\n",
    "        return data_test, testdata_label"
   ]
  },
  {
   "cell_type": "code",
   "execution_count": 3,
   "metadata": {},
   "outputs": [],
   "source": [
    "class LDA():\n",
    "    def __init__(self):\n",
    "        self.w = None"
   ]
  }
 ],
 "metadata": {
  "kernelspec": {
   "name": "python376jvsc74a57bd0a8f61be024eba58adef938c9aa1e29e02cb3dece83a5348b1a2dafd16a070453",
   "display_name": "Python 3.7.6 64-bit ('base': conda)"
  },
  "language_info": {
   "codemirror_mode": {
    "name": "ipython",
    "version": 3
   },
   "file_extension": ".py",
   "mimetype": "text/x-python",
   "name": "python",
   "nbconvert_exporter": "python",
   "pygments_lexer": "ipython3",
   "version": "3.7.6"
  }
 },
 "nbformat": 4,
 "nbformat_minor": 4
}